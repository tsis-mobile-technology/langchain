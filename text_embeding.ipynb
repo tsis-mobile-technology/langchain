{
 "cells": [
  {
   "cell_type": "code",
   "execution_count": 1,
   "metadata": {},
   "outputs": [
    {
     "name": "stdout",
     "output_type": "stream",
     "text": [
      "Requirement already satisfied: transformers in c:\\users\\28006030\\appdata\\roaming\\python\\python311\\site-packages (4.39.3)\n",
      "Requirement already satisfied: sentence-transformers in c:\\users\\28006030\\appdata\\roaming\\python\\python311\\site-packages (2.6.1)\n",
      "Requirement already satisfied: filelock in c:\\users\\28006030\\appdata\\roaming\\python\\python311\\site-packages (from transformers) (3.13.4)\n",
      "Requirement already satisfied: huggingface-hub<1.0,>=0.19.3 in c:\\users\\28006030\\appdata\\roaming\\python\\python311\\site-packages (from transformers) (0.22.2)\n",
      "Requirement already satisfied: numpy>=1.17 in c:\\users\\28006030\\.conda\\envs\\langchain1\\lib\\site-packages (from transformers) (1.26.3)\n",
      "Requirement already satisfied: packaging>=20.0 in c:\\users\\28006030\\appdata\\roaming\\python\\python311\\site-packages (from transformers) (23.2)\n",
      "Requirement already satisfied: pyyaml>=5.1 in c:\\users\\28006030\\.conda\\envs\\langchain1\\lib\\site-packages (from transformers) (6.0.1)\n",
      "Requirement already satisfied: regex!=2019.12.17 in c:\\users\\28006030\\appdata\\roaming\\python\\python311\\site-packages (from transformers) (2023.12.25)\n",
      "Requirement already satisfied: requests in c:\\users\\28006030\\.conda\\envs\\langchain1\\lib\\site-packages (from transformers) (2.31.0)\n",
      "Requirement already satisfied: tokenizers<0.19,>=0.14 in c:\\users\\28006030\\appdata\\roaming\\python\\python311\\site-packages (from transformers) (0.15.2)\n",
      "Requirement already satisfied: safetensors>=0.4.1 in c:\\users\\28006030\\appdata\\roaming\\python\\python311\\site-packages (from transformers) (0.4.2)\n",
      "Requirement already satisfied: tqdm>=4.27 in c:\\users\\28006030\\.conda\\envs\\langchain1\\lib\\site-packages (from transformers) (4.66.1)\n",
      "Requirement already satisfied: torch>=1.11.0 in c:\\users\\28006030\\appdata\\roaming\\python\\python311\\site-packages (from sentence-transformers) (2.2.2)\n",
      "Requirement already satisfied: scikit-learn in c:\\users\\28006030\\.conda\\envs\\langchain1\\lib\\site-packages (from sentence-transformers) (1.3.2)\n",
      "Requirement already satisfied: scipy in c:\\users\\28006030\\.conda\\envs\\langchain1\\lib\\site-packages (from sentence-transformers) (1.11.4)\n",
      "Requirement already satisfied: Pillow in c:\\users\\28006030\\.conda\\envs\\langchain1\\lib\\site-packages (from sentence-transformers) (10.3.0)\n",
      "Requirement already satisfied: fsspec>=2023.5.0 in c:\\users\\28006030\\appdata\\roaming\\python\\python311\\site-packages (from huggingface-hub<1.0,>=0.19.3->transformers) (2024.3.1)\n",
      "Requirement already satisfied: typing-extensions>=3.7.4.3 in c:\\users\\28006030\\appdata\\roaming\\python\\python311\\site-packages (from huggingface-hub<1.0,>=0.19.3->transformers) (4.11.0)\n",
      "Requirement already satisfied: sympy in c:\\users\\28006030\\.conda\\envs\\langchain1\\lib\\site-packages (from torch>=1.11.0->sentence-transformers) (1.12)\n",
      "Requirement already satisfied: networkx in c:\\users\\28006030\\appdata\\roaming\\python\\python311\\site-packages (from torch>=1.11.0->sentence-transformers) (3.3)\n",
      "Requirement already satisfied: jinja2 in c:\\users\\28006030\\.conda\\envs\\langchain1\\lib\\site-packages (from torch>=1.11.0->sentence-transformers) (3.1.3)\n",
      "Requirement already satisfied: colorama in c:\\users\\28006030\\.conda\\envs\\langchain1\\lib\\site-packages (from tqdm>=4.27->transformers) (0.4.6)\n",
      "Requirement already satisfied: charset-normalizer<4,>=2 in c:\\users\\28006030\\appdata\\roaming\\python\\python311\\site-packages (from requests->transformers) (3.3.2)\n",
      "Requirement already satisfied: idna<4,>=2.5 in c:\\users\\28006030\\.conda\\envs\\langchain1\\lib\\site-packages (from requests->transformers) (3.6)\n",
      "Requirement already satisfied: urllib3<3,>=1.21.1 in c:\\users\\28006030\\appdata\\roaming\\python\\python311\\site-packages (from requests->transformers) (2.2.1)\n",
      "Requirement already satisfied: certifi>=2017.4.17 in c:\\users\\28006030\\.conda\\envs\\langchain1\\lib\\site-packages (from requests->transformers) (2023.11.17)\n",
      "Requirement already satisfied: joblib>=1.1.1 in c:\\users\\28006030\\.conda\\envs\\langchain1\\lib\\site-packages (from scikit-learn->sentence-transformers) (1.3.2)\n",
      "Requirement already satisfied: threadpoolctl>=2.0.0 in c:\\users\\28006030\\appdata\\roaming\\python\\python311\\site-packages (from scikit-learn->sentence-transformers) (3.4.0)\n",
      "Requirement already satisfied: MarkupSafe>=2.0 in c:\\users\\28006030\\appdata\\roaming\\python\\python311\\site-packages (from jinja2->torch>=1.11.0->sentence-transformers) (2.1.5)\n",
      "Requirement already satisfied: mpmath>=0.19 in c:\\users\\28006030\\.conda\\envs\\langchain1\\lib\\site-packages (from sympy->torch>=1.11.0->sentence-transformers) (1.3.0)\n"
     ]
    }
   ],
   "source": [
    "!pip install transformers sentence-transformers\n"
   ]
  },
  {
   "cell_type": "code",
   "execution_count": 2,
   "metadata": {},
   "outputs": [
    {
     "name": "stderr",
     "output_type": "stream",
     "text": [
      "c:\\Users\\28006030\\.conda\\envs\\langchain1\\Lib\\site-packages\\tqdm\\auto.py:21: TqdmWarning: IProgress not found. Please update jupyter and ipywidgets. See https://ipywidgets.readthedocs.io/en/stable/user_install.html\n",
      "  from .autonotebook import tqdm as notebook_tqdm\n"
     ]
    }
   ],
   "source": [
    "from sentence_transformers import SentenceTransformer\n",
    "\n",
    "model = SentenceTransformer('sentence-transformers/nli-mpnet-base-v2')\n"
   ]
  },
  {
   "cell_type": "code",
   "execution_count": 4,
   "metadata": {},
   "outputs": [],
   "source": [
    "sentences = [\"이것은 첫 번째 문장입니다.\", \"이것은 두 번째 문장입니다.\", \"이 기사는 qStudio라는 새로운 SQL 편집기 소개합니다. qStudio의 기능과 다른 SQL 편집기보다 qStudio를 선택해야 하는 이유를 설명합니다. 주요 내용은 다음과 같습니다. qStudio는 다양한 데이터 소스와 통합되고 자연어를 SQL 쿼리로 변환할 수 있는 AI를 갖추고 있습니다. 기타 흥미로운 기능으로는 내장 데이터베이스, 파켓 파일 뷰어, Excel과 같은 데이터 피벗 기능이 있습니다.\"]\n"
   ]
  },
  {
   "cell_type": "code",
   "execution_count": 5,
   "metadata": {},
   "outputs": [],
   "source": [
    "embeddings = model.encode(sentences)\n"
   ]
  },
  {
   "cell_type": "code",
   "execution_count": 6,
   "metadata": {},
   "outputs": [
    {
     "name": "stdout",
     "output_type": "stream",
     "text": [
      "[[ 0.09147034 -0.19402964  0.12503506 ... -0.02685635  0.19495834\n",
      "  -0.06086446]\n",
      " [ 0.09174695 -0.25799343  0.07855201 ... -0.0346747   0.19045968\n",
      "  -0.05924078]\n",
      " [ 0.08818525 -0.09440188  0.07252826 ... -0.04335444  0.19685297\n",
      "  -0.04634074]]\n"
     ]
    }
   ],
   "source": [
    "print(embeddings)\n"
   ]
  },
  {
   "cell_type": "code",
   "execution_count": 7,
   "metadata": {},
   "outputs": [
    {
     "name": "stdout",
     "output_type": "stream",
     "text": [
      "[[0.9779902]]\n"
     ]
    }
   ],
   "source": [
    "from sklearn.metrics.pairwise import cosine_similarity\n",
    "\n",
    "similarity = cosine_similarity(embeddings[0].reshape(1, -1), embeddings[1].reshape(1, -1))\n",
    "print(similarity)\n"
   ]
  },
  {
   "cell_type": "code",
   "execution_count": 11,
   "metadata": {},
   "outputs": [
    {
     "name": "stdout",
     "output_type": "stream",
     "text": [
      "[[ 0.09147034 -0.19402964  0.12503506 ... -0.02685635  0.19495834\n",
      "  -0.06086446]\n",
      " [ 0.09174695 -0.25799343  0.07855201 ... -0.0346747   0.19045968\n",
      "  -0.05924078]\n",
      " [ 0.08818525 -0.09440188  0.07252826 ... -0.04335444  0.19685297\n",
      "  -0.04634074]]\n",
      "[[0.9779902]]\n",
      "[[0.7712762]]\n",
      "[[0.78117627]]\n"
     ]
    }
   ],
   "source": [
    "from sentence_transformers import SentenceTransformer\n",
    "from sklearn.metrics.pairwise import cosine_similarity\n",
    "\n",
    "model = SentenceTransformer('sentence-transformers/nli-mpnet-base-v2')\n",
    "sentences = [\"이것은 첫 번째 문장입니다.\", \"이것은 두 번째 문장입니다.\", \"이 기사는 qStudio라는 새로운 SQL 편집기 소개합니다. qStudio의 기능과 다른 SQL 편집기보다 qStudio를 선택해야 하는 이유를 설명합니다. 주요 내용은 다음과 같습니다. qStudio는 다양한 데이터 소스와 통합되고 자연어를 SQL 쿼리로 변환할 수 있는 AI를 갖추고 있습니다. 기타 흥미로운 기능으로는 내장 데이터베이스, 파켓 파일 뷰어, Excel과 같은 데이터 피벗 기능이 있습니다.\"]\n",
    "embeddings = model.encode(sentences)\n",
    "print(embeddings)\n",
    "\n",
    "similarity = cosine_similarity(embeddings[0].reshape(1, -1), embeddings[1].reshape(1, -1))\n",
    "print(similarity)\n",
    "\n",
    "similarity = cosine_similarity(embeddings[0].reshape(1, -1), embeddings[2].reshape(1, -1))\n",
    "print(similarity)\n",
    "\n",
    "similarity = cosine_similarity(embeddings[1].reshape(1, -1), embeddings[2].reshape(1, -1))\n",
    "print(similarity)\n"
   ]
  }
 ],
 "metadata": {
  "kernelspec": {
   "display_name": "langchain1",
   "language": "python",
   "name": "python3"
  },
  "language_info": {
   "codemirror_mode": {
    "name": "ipython",
    "version": 3
   },
   "file_extension": ".py",
   "mimetype": "text/x-python",
   "name": "python",
   "nbconvert_exporter": "python",
   "pygments_lexer": "ipython3",
   "version": "3.11.9"
  }
 },
 "nbformat": 4,
 "nbformat_minor": 2
}
