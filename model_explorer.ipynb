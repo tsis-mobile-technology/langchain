{
 "cells": [
  {
   "cell_type": "code",
   "execution_count": 6,
   "metadata": {},
   "outputs": [
    {
     "name": "stderr",
     "output_type": "stream",
     "text": [
      "ERROR: Could not find a version that satisfies the requirement modelexplorer (from versions: none)\n",
      "ERROR: No matching distribution found for modelexplorer\n"
     ]
    }
   ],
   "source": [
    "!pip install tensorflow\n",
    "!pip install modelexplorer"
   ]
  },
  {
   "cell_type": "code",
   "execution_count": 5,
   "metadata": {},
   "outputs": [
    {
     "ename": "ModuleNotFoundError",
     "evalue": "No module named 'modelexplorer'",
     "output_type": "error",
     "traceback": [
      "\u001b[1;31m---------------------------------------------------------------------------\u001b[0m",
      "\u001b[1;31mModuleNotFoundError\u001b[0m                       Traceback (most recent call last)",
      "Cell \u001b[1;32mIn[5], line 2\u001b[0m\n\u001b[0;32m      1\u001b[0m \u001b[38;5;28;01mimport\u001b[39;00m \u001b[38;5;21;01mtensorflow\u001b[39;00m \u001b[38;5;28;01mas\u001b[39;00m \u001b[38;5;21;01mtf\u001b[39;00m\n\u001b[1;32m----> 2\u001b[0m \u001b[38;5;28;01mimport\u001b[39;00m \u001b[38;5;21;01mmodelexplorer\u001b[39;00m\n\u001b[0;32m      4\u001b[0m \u001b[38;5;66;03m# 모델 로드 (예시: MNIST 분류 모델)\u001b[39;00m\n\u001b[0;32m      5\u001b[0m model \u001b[38;5;241m=\u001b[39m tf\u001b[38;5;241m.\u001b[39mkeras\u001b[38;5;241m.\u001b[39mmodels\u001b[38;5;241m.\u001b[39mload_model(\u001b[38;5;124m'\u001b[39m\u001b[38;5;124mmnist_model.h5\u001b[39m\u001b[38;5;124m'\u001b[39m)\n",
      "\u001b[1;31mModuleNotFoundError\u001b[0m: No module named 'modelexplorer'"
     ]
    }
   ],
   "source": [
    "import tensorflow as tf\n",
    "import modelexplorer\n",
    "\n",
    "# 모델 로드 (예시: MNIST 분류 모델)\n",
    "model = tf.keras.models.load_model('mnist_model.h5')\n",
    "\n",
    "# Model Explorer 초기화\n",
    "explorer = modelexplorer.ModelExplorer(model)\n"
   ]
  },
  {
   "cell_type": "code",
   "execution_count": null,
   "metadata": {},
   "outputs": [],
   "source": [
    "import torch\n",
    "import modelexplorer\n",
    "\n",
    "# 모델 로드 (예시: ResNet 이미지 분류 모델)\n",
    "model = torch.load('resnet_model.pth')\n",
    "\n",
    "# Model Explorer 초기화\n",
    "explorer = modelexplorer.ModelExplorer(model)\n"
   ]
  },
  {
   "cell_type": "code",
   "execution_count": null,
   "metadata": {},
   "outputs": [],
   "source": [
    "import joblib\n",
    "import modelexplorer\n",
    "\n",
    "# 모델 로드 (예시: Random Forest 분류 모델)\n",
    "model = joblib.load('random_forest_model.pkl')\n",
    "\n",
    "# Model Explorer 초기화\n",
    "explorer = modelexplorer.ModelExplorer(model)\n"
   ]
  }
 ],
 "metadata": {
  "kernelspec": {
   "display_name": "langchain1",
   "language": "python",
   "name": "python3"
  },
  "language_info": {
   "codemirror_mode": {
    "name": "ipython",
    "version": 3
   },
   "file_extension": ".py",
   "mimetype": "text/x-python",
   "name": "python",
   "nbconvert_exporter": "python",
   "pygments_lexer": "ipython3",
   "version": "3.10.14"
  }
 },
 "nbformat": 4,
 "nbformat_minor": 2
}
