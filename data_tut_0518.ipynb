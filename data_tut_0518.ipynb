{
 "cells": [
  {
   "cell_type": "code",
   "execution_count": 1,
   "metadata": {},
   "outputs": [],
   "source": [
    "import pandas as pd\n",
    "\n",
    "# CSV 파일 로드 (sample.pdf 파일을 csv로 변환했다고 가정)\n",
    "df = pd.read_csv('sample.csv')\n"
   ]
  },
  {
   "cell_type": "code",
   "execution_count": 2,
   "metadata": {},
   "outputs": [
    {
     "name": "stdout",
     "output_type": "stream",
     "text": [
      "장애분류(카테고리)       object\n",
      "실적귀속부서           object\n",
      "발생년도              int64\n",
      "발생월               int64\n",
      "발생일시             object\n",
      "기간               object\n",
      "본부주간보고용          object\n",
      "사업부기준            object\n",
      "본부주간보고용.1        object\n",
      "구분                int64\n",
      "장애지수            float64\n",
      "장애 ID            object\n",
      "sla 대상 여부        object\n",
      "회사명              object\n",
      "제 목              object\n",
      "장애분류(카테고리).1     object\n",
      "장애분류             object\n",
      "장애유형(대)          object\n",
      "장애유형(중)          object\n",
      "장애원인(대)          object\n",
      "장애원인(중)          object\n",
      "전체 장애시간          object\n",
      "주요 증상            object\n",
      "근본원인             object\n",
      "발생일시.1           object\n",
      "처리완료일시           object\n",
      "해결유형             object\n",
      "조치결과             object\n",
      "재발방지대책           object\n",
      "dtype: object\n"
     ]
    }
   ],
   "source": [
    "# 데이터 타입 확인\n",
    "print(df.dtypes)\n"
   ]
  },
  {
   "cell_type": "code",
   "execution_count": 4,
   "metadata": {},
   "outputs": [],
   "source": [
    "# '전체 장애시간' 열 전처리 및 변환\n",
    "df['전체 장애시간'] = df['전체 장애시간'].astype(str).str.replace(' 분', '', regex=False)\n",
    "df['전체 장애시간'] = pd.to_numeric(df['전체 장애시간'], errors='coerce')\n",
    "\n",
    "# '발생년월' 열 생성\n",
    "df['발생년월'] = df['발생년도'].astype(str) + '-' + df['발생월'].astype(str).str.zfill(2)\n",
    "\n",
    "# 회사명, 장애유형(대), 장애유형(중), 장애원인(대), 장애원인(중) 별 장애 발생 횟수 계산\n",
    "df_company = df['회사명'].value_counts().reset_index().rename(columns={'index':'회사명', '회사명':'장애 발생 횟수'})\n",
    "df_type1 = df['장애유형(대)'].value_counts().reset_index().rename(columns={'index':'장애유형(대)', '장애유형(대)':'장애 발생 횟수'})\n",
    "df_type2 = df['장애유형(중)'].value_counts().reset_index().rename(columns={'index':'장애유형(중)', '장애유형(중)':'장애 발생 횟수'})\n",
    "df_reason1 = df['장애원인(대)'].value_counts().reset_index().rename(columns={'index':'장애원인(대)', '장애원인(대)':'장애 발생 횟수'})\n",
    "df_reason2 = df['장애원인(중)'].value_counts().reset_index().rename(columns={'index':'장애원인(중)', '장애원인(중)':'장애 발생 횟수'})\n",
    "\n",
    "# 발생년월 별 장애 발생 횟수 및 전체 장애시간 합 계산\n",
    "df_month = df.groupby('발생년월').agg(장애_발생_횟수=('장애분류(카테고리)', 'count'),\n",
    "                                   전체_장애시간=('전체 장애시간', 'sum')).reset_index()\n",
    "\n",
    "# 데이터프레임 정렬\n",
    "df_company = df_company.sort_values(by='장애 발생 횟수', ascending=False)\n",
    "df_type1 = df_type1.sort_values(by='장애 발생 횟수', ascending=False)\n",
    "df_type2 = df_type2.sort_values(by='장애 발생 횟수', ascending=False)\n",
    "df_reason1 = df_reason1.sort_values(by='장애 발생 횟수', ascending=False)\n",
    "df_reason2 = df_reason2.sort_values(by='장애 발생 횟수', ascending=False)\n",
    "df_month = df_month.sort_values(by='발생년월')\n"
   ]
  },
  {
   "cell_type": "code",
   "execution_count": 10,
   "metadata": {},
   "outputs": [
    {
     "name": "stdout",
     "output_type": "stream",
     "text": [
      "회사명 별 장애 발생 횟수\n",
      "| 장애 발생 횟수   | count   |\n",
      "|:-----------------|:--------|\n",
      "| 흥국화재해상보험 | 21      |\n",
      "| 흥국생명         | 22      |\n",
      "| 티알엔           | 11      |\n",
      "| 티시스           | 2       |\n",
      "| 티브로드         | 1       |\n",
      "| 장애 발생 횟수   | count   |\n",
      "|:-----------------|:--------|\n",
      "| 흥국화재해상보험 | 21      |\n",
      "| 흥국생명         | 22      |\n",
      "| 티알엔           | 11      |\n",
      "| 티시스           | 2       |\n",
      "| 티브로드         | 1       |\n",
      "| 태광산업         | 1       |\n",
      "| 예가람저축은행   | 1       |\n",
      "| 대한화섬         | 1       |\n",
      "| 계열사 공통      | 1       |\n",
      "| SKB              | 1       |\n",
      "| KCT              | 1       |\n"
     ]
    }
   ],
   "source": [
    "# 각 데이터 프레임 출력\n",
    "print(\"회사명 별 장애 발생 횟수\")\n",
    "# print(df_company.head(5).to_markdown(index=False, numalign=\"left\", stralign=\"left\"))\n",
    "print(df_company.to_markdown(index=False, numalign=\"left\", stralign=\"left\"))"
   ]
  },
  {
   "cell_type": "code",
   "execution_count": 17,
   "metadata": {},
   "outputs": [
    {
     "name": "stdout",
     "output_type": "stream",
     "text": [
      "\n",
      "장애유형(대) 별 장애 발생 횟수\n",
      "| 장애 발생 횟수            | count   |\n",
      "|:--------------------------|:--------|\n",
      "| 소프트웨어                | 16      |\n",
      "| 어플리케이션              | 12      |\n",
      "| 하드웨어                  | 10      |\n",
      "| 소프트웨어/데이터베이스   | 5       |\n",
      "| 응용                      | 3       |\n",
      "| 인프라                    | 2       |\n",
      "| NW 장비 오작동            | 2       |\n",
      "| 임계치 초과               | 1       |\n",
      "| 회선 속도 저하            | 1       |\n",
      "| 소프트웨어/시스템 S/W     | 1       |\n",
      "| 해당 서비스 불가          | 1       |\n",
      "| 보안                      | 1       |\n",
      "| 네트워크/네트워크 장비    | 1       |\n",
      "| 서버 접속 지연            | 1       |\n",
      "| 서비스 처리 불가          | 1       |\n",
      "| 어플리케이션/온라인서비스 | 1       |\n",
      "| 화면 기능 오류            | 1       |\n"
     ]
    }
   ],
   "source": [
    "# 각 데이터 프레임 출력\n",
    "print(\"\\n장애유형(대) 별 장애 발생 횟수\")\n",
    "# print(df_type1.head(5).to_markdown(index=False, numalign=\"left\", stralign=\"left\"))\n",
    "print(df_type1.to_markdown(index=False, numalign=\"left\", stralign=\"left\"))\n",
    "# print(df_type1.sort_values(by='count', ascending=False, inplace=True))\n"
   ]
  },
  {
   "cell_type": "code",
   "execution_count": 19,
   "metadata": {},
   "outputs": [
    {
     "name": "stdout",
     "output_type": "stream",
     "text": [
      "\n",
      "장애유형(중) 별 장애 발생 횟수\n",
      "| 장애 발생 횟수        | count   |\n",
      "|:----------------------|:--------|\n",
      "| 온라인 서비스         | 7       |\n",
      "| 성능 지연             | 6       |\n",
      "| NW 장비 오작동        | 5       |\n",
      "| 서비스 처리 불가      | 3       |\n",
      "| 해당 서비스 불가      | 3       |\n",
      "| 해당 서버 서비스 불가 | 3       |\n",
      "| 패키지 S/W            | 3       |\n",
      "| 임계치 초과           | 3       |\n",
      "| 시스템 S/W            | 3       |\n",
      "| 네트워크 장비         | 3       |\n",
      "| 서버 접속 지연        | 2       |\n",
      "| 장비 Fault            | 2       |\n",
      "| 온라인서비스          | 2       |\n",
      "| 데이터베이스          | 2       |\n",
      "| 개발 S/W              | 1       |\n",
      "| 미들웨어              | 1       |\n",
      "| 네트워크 회선         | 1       |\n",
      "| 대외계 서비스         | 1       |\n",
      "| 회선 속도 저하        | 1       |\n",
      "| 배치 서비스           | 1       |\n",
      "| 배치서비스            | 1       |\n",
      "| 배치작업 오류         | 1       |\n",
      "| 서버 접속 불가        | 1       |\n",
      "| 화면 기능 오류        | 1       |\n",
      "| 서비스 처리 지연      | 1       |\n",
      "| 소프트웨어/미들웨어   | 1       |\n",
      "| 서비스 조회 지연      | 1       |\n"
     ]
    }
   ],
   "source": [
    "# 각 데이터 프레임 출력\n",
    "print(\"\\n장애유형(중) 별 장애 발생 횟수\")\n",
    "# print(df_type2.head(5).to_markdown(index=False, numalign=\"left\", stralign=\"left\"))\n",
    "df_type2 = df_type2.sort_values('count', ascending=False)\n",
    "print(df_type2.to_markdown(index=False, numalign=\"left\", stralign=\"left\"))"
   ]
  },
  {
   "cell_type": "code",
   "execution_count": null,
   "metadata": {},
   "outputs": [],
   "source": [
    "# 각 데이터 프레임 출력\n",
    "print(\"\\n장애원인(대) 별 장애 발생 횟수\")\n",
    "print(df_reason1.head(5).to_markdown(index=False, numalign=\"left\", stralign=\"left\"))"
   ]
  },
  {
   "cell_type": "code",
   "execution_count": null,
   "metadata": {},
   "outputs": [],
   "source": [
    "# 각 데이터 프레임 출력\n",
    "print(\"\\n장애원인(중) 별 장애 발생 횟수\")\n",
    "print(df_reason2.head(5).to_markdown(index=False, numalign=\"left\", stralign=\"left\"))"
   ]
  },
  {
   "cell_type": "code",
   "execution_count": null,
   "metadata": {},
   "outputs": [],
   "source": [
    "# 각 데이터 프레임 출력\n",
    "print(\"\\n발생년월 별 장애 발생 횟수 및 전체 장애시간 합\")\n",
    "print(df_month.head(5).to_markdown(index=False, numalign=\"left\", stralign=\"left\"))"
   ]
  },
  {
   "cell_type": "code",
   "execution_count": null,
   "metadata": {},
   "outputs": [],
   "source": [
    "# 장애원인(대) 또는 장애원인(중) 열에 '휴먼 에러'가 포함된 행 필터링\n",
    "filtered_df = df[(df['장애원인(대)'].str.contains('휴먼 에러')) | (df['장애원인(중)'].str.contains('휴먼 에러'))].copy()\n",
    "\n",
    "# 선택된 열의 각 값 별로 발생 횟수 계산 및 정렬\n",
    "for col in ['회사명', '장애유형(대)', '장애유형(중)', '장애원인(대)', '장애원인(중)']:\n",
    "    counts = filtered_df[col].value_counts().reset_index().rename(columns={'index': col, col: '발생 횟수'})\n",
    "    counts = counts.sort_values(by='발생 횟수', ascending=False)\n",
    "    print(f\"\\n'휴먼 에러' 관련 {col} 별 발생 횟수:\")\n",
    "    print(counts.to_markdown(index=False, numalign=\"left\", stralign=\"left\"))\n",
    "\n",
    "# 필터링된 데이터프레임 출력\n",
    "print(\"\\n'휴먼 에러' 관련 장애 데이터:\")\n",
    "print(filtered_df.to_markdown(index=False, numalign=\"left\", stralign=\"left\"))\n",
    "\n",
    "# 선택된 열의 고유한 값 출력\n",
    "for col in ['회사명', '장애유형(대)', '장애유형(중)', '장애원인(대)', '장애원인(중)']:\n",
    "    unique_values = filtered_df[col].unique()\n",
    "    print(f\"\\n고유한 {col} 값:\")\n",
    "    for value in unique_values:\n",
    "        print(value)"
   ]
  }
 ],
 "metadata": {
  "kernelspec": {
   "display_name": "langchain1",
   "language": "python",
   "name": "python3"
  },
  "language_info": {
   "codemirror_mode": {
    "name": "ipython",
    "version": 3
   },
   "file_extension": ".py",
   "mimetype": "text/x-python",
   "name": "python",
   "nbconvert_exporter": "python",
   "pygments_lexer": "ipython3",
   "version": "3.11.7"
  }
 },
 "nbformat": 4,
 "nbformat_minor": 2
}
